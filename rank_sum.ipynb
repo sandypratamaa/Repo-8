{
  "cells": [
    {
      "cell_type": "markdown",
      "metadata": {
        "id": "3Z5Y9Nsu6Rx6"
      },
      "source": [
        "## Text summarization (Senetnce Ranking)\n",
        "\n",
        "#### STEP 1 : Data cleaning ( removing non letter characters, turning to lower case letters )\n",
        "#### STEP 2 : Building Sentence Similarity Matrix\n",
        "#### STEP 3 : Sentence Ranking\n",
        "#### STEP 4 : Summary Generation"
      ]
    },
    {
      "cell_type": "markdown",
      "metadata": {
        "id": "CwWdwxgU6RyA"
      },
      "source": [
        "## Initial Phase\n",
        "### Importing Libraries and Reading Data"
      ]
    },
    {
      "cell_type": "code",
      "execution_count": 8,
      "metadata": {
        "id": "S_1DHXpv6RyC"
      },
      "outputs": [],
      "source": [
        "### importing the necessary libraries\n",
        "\n",
        "from nltk.corpus import stopwords\n",
        "from nltk.cluster.util import cosine_distance\n",
        "from nltk.tokenize import sent_tokenize\n",
        "import numpy as np\n",
        "import pandas as pd\n",
        "import nltk\n",
        "import re\n",
        "from nltk.corpus import stopwords\n",
        "import networkx as nx\n",
        "from nltk.tokenize import  sent_tokenize"
      ]
    },
    {
      "cell_type": "code",
      "execution_count": 9,
      "metadata": {
        "colab": {
          "base_uri": "https://localhost:8080/"
        },
        "id": "e8Qv5x-06RyF",
        "outputId": "0bda5685-a341-4c7a-a241-414b1ddfd766"
      },
      "outputs": [
        {
          "output_type": "execute_result",
          "data": {
            "text/plain": [
              "0    Maria Sharapova has basically no friends as te...\n",
              "1    BASEL, Switzerland (AP), Roger Federer advance...\n",
              "2    Roger Federer has revealed that organisers of ...\n",
              "3    Kei Nishikori will try to end his long losing ...\n",
              "4    Federer, 37, first broke through on tour over ...\n",
              "5    Nadal has not played tennis since he was force...\n",
              "6    Tennis giveth, and tennis taketh away. The end...\n",
              "7    Federer won the Swiss Indoors last week by bea...\n",
              "Name: article_text, dtype: object"
            ]
          },
          "metadata": {},
          "execution_count": 9
        }
      ],
      "source": [
        "### Reading the data file\n",
        "\n",
        "df = pd.read_csv('/content/tennis_articles_v4.csv')\n",
        "\n",
        "df['article_text']"
      ]
    },
    {
      "cell_type": "code",
      "execution_count": 10,
      "metadata": {
        "id": "qpdT9Cqp6RyI"
      },
      "outputs": [],
      "source": [
        "## working with re ( regular expression in python)\n",
        "\n",
        "import re\n",
        "s = 'he&&&s'\n",
        "s = re.sub(\"[^a-zA-Z]\",\" \",s)"
      ]
    },
    {
      "cell_type": "markdown",
      "metadata": {
        "id": "TVCg3vru6RyJ"
      },
      "source": [
        "## STEP 1 : Data Cleaning\n",
        "### Cleaning sentences, by removing Non Alphabet Characters and converting to Lower Case Letters"
      ]
    },
    {
      "cell_type": "code",
      "source": [
        "# Download the punkt resource\n",
        "nltk.download('punkt')\n",
        "\n",
        "# existing code\n",
        "dict = {}\n",
        "s = \"\"\n",
        "for a in df['article_text']:\n",
        "    s += a\n",
        "\n",
        "s = s.lower()\n",
        "\n",
        "sentences = sent_tokenize(s)\n",
        "\n",
        "final = []\n",
        "\n",
        "for s in sentences:\n",
        "    temp = re.sub(\"[^a-zA-Z]\", \" \", s)\n",
        "    temp = temp.lower()\n",
        "    final.append(temp)\n",
        "    dict[temp] = s\n",
        "\n",
        "# Continue with the rest of your code\n",
        "# ...\n",
        "\n",
        "# Print final and the dictionary\n",
        "print(final)\n",
        "print(dict)\n"
      ],
      "metadata": {
        "colab": {
          "base_uri": "https://localhost:8080/"
        },
        "id": "qITjwaOX7sX7",
        "outputId": "36704819-5487-4d61-b50e-4036073c7846"
      },
      "execution_count": 11,
      "outputs": [
        {
          "output_type": "stream",
          "name": "stdout",
          "text": [
            "['maria sharapova has basically no friends as tennis players on the wta tour ', 'the russian player has no problems in openly speaking about it and in a recent interview she said   i don t really hide any feelings too much ', 'i think everyone knows this is my job here ', 'when i m on the courts or when i m on the court playing  i m a competitor and i want to beat every single person whether they re in the locker room or across the net so i m not the one to strike up a conversation about the weather and know that in the next few minutes i have to go and try to win a tennis match ', 'i m a pretty competitive girl ', 'i say my hellos  but i m not sending any players flowers as well ', 'uhm  i m not really friendly or close to many players ', 'i have not a lot of friends away from the courts  ', 'when she said she is not really close to a lot of players  is that something strategic that she is doing ', 'is it different on the men s tour than the women s tour ', ' no  not at all ', 'i think just because you re in the same sport doesn t mean that you have to be friends with everyone just because you re categorized  you re a tennis player  so you re going to get along with tennis players ', 'i think every person has different interests ', 'i have friends that have completely different jobs and interests  and i ve met them in very different parts of my life ', 'i think everyone just thinks because we re tennis players we should be the greatest of friends ', 'but ultimately tennis is just a very small part of what we do ', 'there are so many other things that we re interested in  that we do ', ' basel  switzerland  ap   roger federer advanced to the   th swiss indoors final of his career by beating seventh seeded daniil medvedev          on saturday ', 'seeking a ninth title at his hometown event  and a   th overall  federer will play   th ranked marius copil on sunday ', 'federer dominated the   th ranked medvedev and had his first match point chance to break serve again at      he then dropped his serve to love  and let another match point slip in medvedev s next service game by netting a backhand ', 'he clinched on his fourth chance when medvedev netted from the baseline ', 'copil upset expectations of a federer final against alexander zverev in a                   win over the fifth ranked german in the earlier semifinal ', 'the romanian aims for a first title after arriving at basel without a career win over a top    opponent ', 'copil has two after also beating no ', '  marin cilic in the second round ', 'copil fired    aces past zverev and never dropped serve  clinching after       hours with a forehand volley winner to break zverev for the second time in the semifinal ', 'he came through two rounds of qualifying last weekend to reach the basel main draw  including beating zverev s older brother  mischa ', 'federer had an easier time than in his only previous match against medvedev  a three setter at shanghai two weeks ago roger federer has revealed that organisers of the re launched and condensed davis cup gave him three days to decide if he would commit to the controversial competition ', 'speaking at the swiss indoors tournament where he will play in sundays final against romanian qualifier marius copil  the world number three said that given the impossibly short time frame to make a decision  he opted out of any commitment ', ' they only left me three days to decide   federer said ', ' i didn t to have time to consult with all the people i had to consult ', ' i could not make a decision in that time  so i told them to do what they wanted  ', 'the    time grand slam champion has voiced doubts about the wisdom of the one week format to be introduced by organisers kosmos  who have promised the international tennis federation up to    billion in prize money over the next quarter century ', 'the competition is set to feature    countries in the november       finals in madrid next year  and will replace the classic home and away ties played four times per year for decades ', 'kosmos is headed by barcelona footballer gerard pique  who is hoping fellow spaniard rafael nadal will play in the upcoming event ', 'novak djokovic has said he will give precedence to the atp s intended re launch of the defunct world team cup in january       at various australian venues ', 'major players feel that a big event in late november combined with one in january before the australian open will mean too much tennis and too little rest ', 'federer said earlier this month in shanghai in that his chances of playing the davis cup were all but non existent ', ' i highly doubt it  of course ', 'we will see what happens   he said ', ' i do not think this was designed for me  anyhow ', 'this was designed for the future generation of players  ', 'argentina and britain received wild cards to the new look event  and will compete along with the four      semi finalists and the    teams who win qualifying rounds next february ', ' i don t like being under that kind of pressure   federer said of the deadline kosmos handed him kei nishikori will try to end his long losing streak in atp finals and kevin anderson will go for his second title of the year at the erste bank open on sunday ', 'the fifth seeded nishikori reached his third final of      after beating mikhail kukushkin of kazakhstan          in the semifinals ', 'a winner of    atp events  nishikori hasn t triumphed since winning in memphis in february       he has lost eight straight finals since ', 'the second seeded anderson defeated fernando verdasco                anderson has a shot at a fifth career title and second of the year after winning in new york in february ', 'nishikori leads anderson     on career matchups  but the south african won their only previous meeting this year ', 'with a victory on sunday  anderson will qualify for the atp finals ', 'currently in ninth place  nishikori with a win could move to within     points of the cut for the eight man event in london next month ', 'nishikori held serve throughout against kukushkin  who came through qualifying ', 'he used his first break point to close out the first set before going up     in the second and wrapping up the win on his first match point ', 'against verdasco  anderson hit nine of his    aces in the opening set ', 'the spaniard broke anderson twice in the second but didn t get another chance on the south african s serve in the final set federer      first broke through on tour over two decades ago and he has since gone on to enjoy a glittering career ', 'the    time grand slam winner is chasing his   th atp title at the swiss indoors this week and he faces jan lennard struff in the second round on thursday   pm bst  ', 'davenport enjoyed most of her success in the late     s and her third and final major tournament win came at the      australian open ', 'but she claims the mentality of professional tennis players slowly began to change after the new millennium ', ' it seems pretty friendly right now   said davenport ', ' i think there is a really nice environment and a great atmosphere  especially between some of the veteran players helping some of the younger players out ', ' it s a very pleasant atmosphere  i d have to say  around the locker rooms ', ' i felt like the best weeks that i had to get to know players when i was playing were the fed cup weeks or the olympic weeks  not necessarily during the tournaments ', ' and even though maybe we had smaller teams  i still think we kept to ourselves quite a bit ', ' not always  but i really feel like in the mid      years there was a huge shift of the attitudes of the top players and being more friendly and being more giving  and a lot of that had to do with players like roger coming up ', ' i just felt like it really kind of changed where people were a little bit  definitely in the   s  a lot more quiet  into themselves  and then it started to become better  ', 'meanwhile  federer is hoping he can improve his service game as he hunts his ninth swiss indoors title this week ', ' i didn t serve very well  against first round opponent filip kranjovic   federer said ', ' i think i was misfiring the corners  i was not hitting the lines enough ', ' clearly you make your life more difficult  but still i was up           break points  so things could have ended very quickly today  even though i didn t have the best serve percentage stats ', ' but maybe that s exactly what caught up to me eventually ', 'it s just getting used to it ', 'this is where the first rounds can be tricky ', ' nadal has not played tennis since he was forced to retire from the us open semi finals against juan martin del porto with a knee injury ', 'the world no   has been forced to miss spain s davis cup clash with france and the asian hard court season ', 'but with the atp world tour finals due to begin next month  nadal is ready to prove his fitness before the season ending event at the    arena ', 'nadal flew to paris on friday and footage from the paris masters official twitter account shows the spaniard smiling as he strides onto court for practice ', 'the paris masters draw has been made and nadal will start his campaign on tuesday or wednesday against either fernando verdasco or jeremy chardy ', 'nadal could then play defending champion jack sock in the third round before a potential quarter final with either borna coric or dominic thiem ', 'nadal s appearance in paris is a big boost to the tournament organisers who could see roger federer withdraw ', 'federer is in action at the swiss indoors in basel and if he reaches the final  he could pull out of paris in a bid to stay fresh for london ', 'but as it stands  federer is in the draw and is scheduled to face either former world no   milos raonic or jo wilfried tsonga in the second round ', 'federer s projected route to the paris final could also lead to matches against kevin anderson and novak djokovic ', 'djokovic could play marco cecchinato in the second round ', 'british no   kyle edmund is the   th seed in paris and will get underway in round two against either karen khachanov or filip krajinovic tennis giveth  and tennis taketh away ', 'the end of the season is finally in sight  and with so many players defending or losing huge chunks of points in singapore  zhuhai and london  podcast co hosts nina pantic and irina falconi discuss the art of defending points         ', 'it s no secret that jack sock has struggled on the singles court this year  his record is       ', 'he could lose       points in the next few weeks  but instead of focusing on the negative  it can all be about perspective         ', 'let s also not forget his two grand slam doubles triumphs this season ', 'two players  stefanos tsitsipas and kyle edmund  won their first career atp titles last week         ', 'it s a big deal because you never forget your first ', 'irina looks back at her wta title win in bogota in       and tells an unforgettable story about her semifinal drama         ', 'in singapore  one of the biggest storylines  aside from the matches  of course  has been the on court coaching debate ', 'nina and irina give their opinions on what coaching should look like in the future  on both tours         federer won the swiss indoors last week by beating romanian qualifier marius copil in the final ', 'the    year old claimed his   th atp title and is hunting the century in the french capital this week ', 'federer has been handed a difficult draw where could could come across kevin anderson  novak djokovic and rafael nadal in the latter rounds ', 'but first the    time grand slam winner wants to train on the paris masters court this afternoon before deciding whether to appear for his opening match against either milos raonic or jo wilfried tsonga ', ' on monday  i am free and will look how i feel   federer said after winning the swiss indoors ', ' on tuesday i will fly to paris and train in the afternoon to be ready for my first match on wednesday night ', ' i felt good all week and better every day ', ' we also had the impression that at this stage it might be better to play matches than to train ', ' and as long as i fear no injury  i play  ', 'federer s success in basel last week was the ninth time he has won his hometown tournament ', 'and he was delighted to be watched on by all of his family and friends as he purchased    tickets for the final for those dearest to him ', ' my children  my parents  my sister and my team are all there   federer added ', ' it is always very emotional for me to thank my team ', 'and sometimes it tilts with the emotions  sometimes i just stumble ', ' it means the world to me ', 'it makes me incredibly happy to win my home tournament and make people happy here ', ' i do not know if it s maybe my last title  so today i try a lot more to absorb that and enjoy the moments much more consciously ', ' maybe i should celebrate as if it were my last title ', ' there are very touching moments  seeing the ball children  the standing ovations  all the familiar faces in the audience ', 'because it was not always easy in the last weeks  ']\n",
            "{'maria sharapova has basically no friends as tennis players on the wta tour ': 'maria sharapova has basically no friends as tennis players on the wta tour.', 'the russian player has no problems in openly speaking about it and in a recent interview she said   i don t really hide any feelings too much ': \"the russian player has no problems in openly speaking about it and in a recent interview she said: 'i don't really hide any feelings too much.\", 'i think everyone knows this is my job here ': 'i think everyone knows this is my job here.', 'when i m on the courts or when i m on the court playing  i m a competitor and i want to beat every single person whether they re in the locker room or across the net so i m not the one to strike up a conversation about the weather and know that in the next few minutes i have to go and try to win a tennis match ': \"when i'm on the courts or when i'm on the court playing, i'm a competitor and i want to beat every single person whether they're in the locker room or across the net.so i'm not the one to strike up a conversation about the weather and know that in the next few minutes i have to go and try to win a tennis match.\", 'i m a pretty competitive girl ': \"i'm a pretty competitive girl.\", 'i say my hellos  but i m not sending any players flowers as well ': \"i say my hellos, but i'm not sending any players flowers as well.\", 'uhm  i m not really friendly or close to many players ': \"uhm, i'm not really friendly or close to many players.\", 'i have not a lot of friends away from the courts  ': \"i have not a lot of friends away from the courts.'\", 'when she said she is not really close to a lot of players  is that something strategic that she is doing ': 'when she said she is not really close to a lot of players, is that something strategic that she is doing?', 'is it different on the men s tour than the women s tour ': \"is it different on the men's tour than the women's tour?\", ' no  not at all ': \"'no, not at all.\", 'i think just because you re in the same sport doesn t mean that you have to be friends with everyone just because you re categorized  you re a tennis player  so you re going to get along with tennis players ': \"i think just because you're in the same sport doesn't mean that you have to be friends with everyone just because you're categorized, you're a tennis player, so you're going to get along with tennis players.\", 'i think every person has different interests ': 'i think every person has different interests.', 'i have friends that have completely different jobs and interests  and i ve met them in very different parts of my life ': \"i have friends that have completely different jobs and interests, and i've met them in very different parts of my life.\", 'i think everyone just thinks because we re tennis players we should be the greatest of friends ': \"i think everyone just thinks because we're tennis players we should be the greatest of friends.\", 'but ultimately tennis is just a very small part of what we do ': 'but ultimately tennis is just a very small part of what we do.', 'there are so many other things that we re interested in  that we do ': \"there are so many other things that we're interested in, that we do.\", ' basel  switzerland  ap   roger federer advanced to the   th swiss indoors final of his career by beating seventh seeded daniil medvedev          on saturday ': \"'basel, switzerland (ap), roger federer advanced to the 14th swiss indoors final of his career by beating seventh-seeded daniil medvedev 6-1, 6-4 on saturday.\", 'seeking a ninth title at his hometown event  and a   th overall  federer will play   th ranked marius copil on sunday ': 'seeking a ninth title at his hometown event, and a 99th overall, federer will play 93th-ranked marius copil on sunday.', 'federer dominated the   th ranked medvedev and had his first match point chance to break serve again at      he then dropped his serve to love  and let another match point slip in medvedev s next service game by netting a backhand ': \"federer dominated the 20th-ranked medvedev and had his first match-point chance to break serve again at 5-1. he then dropped his serve to love, and let another match point slip in medvedev's next service game by netting a backhand.\", 'he clinched on his fourth chance when medvedev netted from the baseline ': 'he clinched on his fourth chance when medvedev netted from the baseline.', 'copil upset expectations of a federer final against alexander zverev in a                   win over the fifth ranked german in the earlier semifinal ': 'copil upset expectations of a federer final against alexander zverev in a 6-3, 6-7 (6), 6-4 win over the fifth-ranked german in the earlier semifinal.', 'the romanian aims for a first title after arriving at basel without a career win over a top    opponent ': 'the romanian aims for a first title after arriving at basel without a career win over a top-10 opponent.', 'copil has two after also beating no ': 'copil has two after also beating no.', '  marin cilic in the second round ': '6 marin cilic in the second round.', 'copil fired    aces past zverev and never dropped serve  clinching after       hours with a forehand volley winner to break zverev for the second time in the semifinal ': 'copil fired 26 aces past zverev and never dropped serve, clinching after 2 1/2 hours with a forehand volley winner to break zverev for the second time in the semifinal.', 'he came through two rounds of qualifying last weekend to reach the basel main draw  including beating zverev s older brother  mischa ': \"he came through two rounds of qualifying last weekend to reach the basel main draw, including beating zverev's older brother, mischa.\", 'federer had an easier time than in his only previous match against medvedev  a three setter at shanghai two weeks ago roger federer has revealed that organisers of the re launched and condensed davis cup gave him three days to decide if he would commit to the controversial competition ': 'federer had an easier time than in his only previous match against medvedev, a three-setter at shanghai two weeks ago.roger federer has revealed that organisers of the re-launched and condensed davis cup gave him three days to decide if he would commit to the controversial competition.', 'speaking at the swiss indoors tournament where he will play in sundays final against romanian qualifier marius copil  the world number three said that given the impossibly short time frame to make a decision  he opted out of any commitment ': 'speaking at the swiss indoors tournament where he will play in sundays final against romanian qualifier marius copil, the world number three said that given the impossibly short time frame to make a decision, he opted out of any commitment.', ' they only left me three days to decide   federer said ': '\"they only left me three days to decide\", federer said.', ' i didn t to have time to consult with all the people i had to consult ': '\"i didn\\'t to have time to consult with all the people i had to consult.', ' i could not make a decision in that time  so i told them to do what they wanted  ': '\"i could not make a decision in that time, so i told them to do what they wanted.\"', 'the    time grand slam champion has voiced doubts about the wisdom of the one week format to be introduced by organisers kosmos  who have promised the international tennis federation up to    billion in prize money over the next quarter century ': 'the 20-time grand slam champion has voiced doubts about the wisdom of the one-week format to be introduced by organisers kosmos, who have promised the international tennis federation up to $3 billion in prize money over the next quarter-century.', 'the competition is set to feature    countries in the november       finals in madrid next year  and will replace the classic home and away ties played four times per year for decades ': 'the competition is set to feature 18 countries in the november 18-24 finals in madrid next year, and will replace the classic home-and-away ties played four times per year for decades.', 'kosmos is headed by barcelona footballer gerard pique  who is hoping fellow spaniard rafael nadal will play in the upcoming event ': 'kosmos is headed by barcelona footballer gerard pique, who is hoping fellow spaniard rafael nadal will play in the upcoming event.', 'novak djokovic has said he will give precedence to the atp s intended re launch of the defunct world team cup in january       at various australian venues ': \"novak djokovic has said he will give precedence to the atp's intended re-launch of the defunct world team cup in january 2020, at various australian venues.\", 'major players feel that a big event in late november combined with one in january before the australian open will mean too much tennis and too little rest ': 'major players feel that a big event in late november combined with one in january before the australian open will mean too much tennis and too little rest.', 'federer said earlier this month in shanghai in that his chances of playing the davis cup were all but non existent ': 'federer said earlier this month in shanghai in that his chances of playing the davis cup were all but non-existent.', ' i highly doubt it  of course ': '\"i highly doubt it, of course.', 'we will see what happens   he said ': 'we will see what happens,\" he said.', ' i do not think this was designed for me  anyhow ': '\"i do not think this was designed for me, anyhow.', 'this was designed for the future generation of players  ': 'this was designed for the future generation of players.\"', 'argentina and britain received wild cards to the new look event  and will compete along with the four      semi finalists and the    teams who win qualifying rounds next february ': 'argentina and britain received wild cards to the new-look event, and will compete along with the four 2018 semi-finalists and the 12 teams who win qualifying rounds next february.', ' i don t like being under that kind of pressure   federer said of the deadline kosmos handed him kei nishikori will try to end his long losing streak in atp finals and kevin anderson will go for his second title of the year at the erste bank open on sunday ': '\"i don\\'t like being under that kind of pressure,\" federer said of the deadline kosmos handed him.kei nishikori will try to end his long losing streak in atp finals and kevin anderson will go for his second title of the year at the erste bank open on sunday.', 'the fifth seeded nishikori reached his third final of      after beating mikhail kukushkin of kazakhstan          in the semifinals ': 'the fifth-seeded nishikori reached his third final of 2018 after beating mikhail kukushkin of kazakhstan 6-4, 6-3 in the semifinals.', 'a winner of    atp events  nishikori hasn t triumphed since winning in memphis in february       he has lost eight straight finals since ': \"a winner of 11 atp events, nishikori hasn't triumphed since winning in memphis in february 2016. he has lost eight straight finals since.\", 'the second seeded anderson defeated fernando verdasco                anderson has a shot at a fifth career title and second of the year after winning in new york in february ': 'the second-seeded anderson defeated fernando verdasco 6-3, 3-6, 6-4. anderson has a shot at a fifth career title and second of the year after winning in new york in february.', 'nishikori leads anderson     on career matchups  but the south african won their only previous meeting this year ': 'nishikori leads anderson 4-2 on career matchups, but the south african won their only previous meeting this year.', 'with a victory on sunday  anderson will qualify for the atp finals ': 'with a victory on sunday, anderson will qualify for the atp finals.', 'currently in ninth place  nishikori with a win could move to within     points of the cut for the eight man event in london next month ': 'currently in ninth place, nishikori with a win could move to within 125 points of the cut for the eight-man event in london next month.', 'nishikori held serve throughout against kukushkin  who came through qualifying ': 'nishikori held serve throughout against kukushkin, who came through qualifying.', 'he used his first break point to close out the first set before going up     in the second and wrapping up the win on his first match point ': 'he used his first break point to close out the first set before going up 3-0 in the second and wrapping up the win on his first match point.', 'against verdasco  anderson hit nine of his    aces in the opening set ': 'against verdasco, anderson hit nine of his 19 aces in the opening set.', 'the spaniard broke anderson twice in the second but didn t get another chance on the south african s serve in the final set federer      first broke through on tour over two decades ago and he has since gone on to enjoy a glittering career ': \"the spaniard broke anderson twice in the second but didn't get another chance on the south african's serve in the final set.federer, 37, first broke through on tour over two decades ago and he has since gone on to enjoy a glittering career.\", 'the    time grand slam winner is chasing his   th atp title at the swiss indoors this week and he faces jan lennard struff in the second round on thursday   pm bst  ': 'the 20-time grand slam winner is chasing his 99th atp title at the swiss indoors this week and he faces jan-lennard struff in the second round on thursday (6pm bst).', 'davenport enjoyed most of her success in the late     s and her third and final major tournament win came at the      australian open ': 'davenport enjoyed most of her success in the late 1990s and her third and final major tournament win came at the 2000 australian open.', 'but she claims the mentality of professional tennis players slowly began to change after the new millennium ': 'but she claims the mentality of professional tennis players slowly began to change after the new millennium.', ' it seems pretty friendly right now   said davenport ': '\"it seems pretty friendly right now,\" said davenport.', ' i think there is a really nice environment and a great atmosphere  especially between some of the veteran players helping some of the younger players out ': '\"i think there is a really nice environment and a great atmosphere, especially between some of the veteran players helping some of the younger players out.', ' it s a very pleasant atmosphere  i d have to say  around the locker rooms ': '\"it\\'s a very pleasant atmosphere, i\\'d have to say, around the locker rooms.', ' i felt like the best weeks that i had to get to know players when i was playing were the fed cup weeks or the olympic weeks  not necessarily during the tournaments ': '\"i felt like the best weeks that i had to get to know players when i was playing were the fed cup weeks or the olympic weeks, not necessarily during the tournaments.', ' and even though maybe we had smaller teams  i still think we kept to ourselves quite a bit ': '\"and even though maybe we had smaller teams, i still think we kept to ourselves quite a bit.', ' not always  but i really feel like in the mid      years there was a huge shift of the attitudes of the top players and being more friendly and being more giving  and a lot of that had to do with players like roger coming up ': '\"not always, but i really feel like in the mid-2000 years there was a huge shift of the attitudes of the top players and being more friendly and being more giving, and a lot of that had to do with players like roger coming up.', ' i just felt like it really kind of changed where people were a little bit  definitely in the   s  a lot more quiet  into themselves  and then it started to become better  ': '\"i just felt like it really kind of changed where people were a little bit, definitely in the 90s, a lot more quiet, into themselves, and then it started to become better.\"', 'meanwhile  federer is hoping he can improve his service game as he hunts his ninth swiss indoors title this week ': 'meanwhile, federer is hoping he can improve his service game as he hunts his ninth swiss indoors title this week.', ' i didn t serve very well  against first round opponent filip kranjovic   federer said ': '\"i didn\\'t serve very well [against first-round opponent filip kranjovic,\" federer said.', ' i think i was misfiring the corners  i was not hitting the lines enough ': '\"i think i was misfiring the corners, i was not hitting the lines enough.', ' clearly you make your life more difficult  but still i was up           break points  so things could have ended very quickly today  even though i didn t have the best serve percentage stats ': '\"clearly you make your life more difficult, but still i was up 6-2, 3-1, break points, so things could have ended very quickly today, even though i didn\\'t have the best serve percentage stats.', ' but maybe that s exactly what caught up to me eventually ': '\"but maybe that\\'s exactly what caught up to me eventually.', 'it s just getting used to it ': \"it's just getting used to it.\", 'this is where the first rounds can be tricky ': 'this is where the first rounds can be tricky.', ' nadal has not played tennis since he was forced to retire from the us open semi finals against juan martin del porto with a knee injury ': '\"nadal has not played tennis since he was forced to retire from the us open semi-finals against juan martin del porto with a knee injury.', 'the world no   has been forced to miss spain s davis cup clash with france and the asian hard court season ': \"the world no 1 has been forced to miss spain's davis cup clash with france and the asian hard court season.\", 'but with the atp world tour finals due to begin next month  nadal is ready to prove his fitness before the season ending event at the    arena ': 'but with the atp world tour finals due to begin next month, nadal is ready to prove his fitness before the season-ending event at the 02 arena.', 'nadal flew to paris on friday and footage from the paris masters official twitter account shows the spaniard smiling as he strides onto court for practice ': 'nadal flew to paris on friday and footage from the paris masters official twitter account shows the spaniard smiling as he strides onto court for practice.', 'the paris masters draw has been made and nadal will start his campaign on tuesday or wednesday against either fernando verdasco or jeremy chardy ': 'the paris masters draw has been made and nadal will start his campaign on tuesday or wednesday against either fernando verdasco or jeremy chardy.', 'nadal could then play defending champion jack sock in the third round before a potential quarter final with either borna coric or dominic thiem ': 'nadal could then play defending champion jack sock in the third round before a potential quarter-final with either borna coric or dominic thiem.', 'nadal s appearance in paris is a big boost to the tournament organisers who could see roger federer withdraw ': \"nadal's appearance in paris is a big boost to the tournament organisers who could see roger federer withdraw.\", 'federer is in action at the swiss indoors in basel and if he reaches the final  he could pull out of paris in a bid to stay fresh for london ': 'federer is in action at the swiss indoors in basel and if he reaches the final, he could pull out of paris in a bid to stay fresh for london.', 'but as it stands  federer is in the draw and is scheduled to face either former world no   milos raonic or jo wilfried tsonga in the second round ': 'but as it stands, federer is in the draw and is scheduled to face either former world no 3 milos raonic or jo-wilfried tsonga in the second round.', 'federer s projected route to the paris final could also lead to matches against kevin anderson and novak djokovic ': \"federer's projected route to the paris final could also lead to matches against kevin anderson and novak djokovic.\", 'djokovic could play marco cecchinato in the second round ': 'djokovic could play marco cecchinato in the second round.', 'british no   kyle edmund is the   th seed in paris and will get underway in round two against either karen khachanov or filip krajinovic tennis giveth  and tennis taketh away ': 'british no 1 kyle edmund is the 12th seed in paris and will get underway in round two against either karen khachanov or filip krajinovic.tennis giveth, and tennis taketh away.', 'the end of the season is finally in sight  and with so many players defending or losing huge chunks of points in singapore  zhuhai and london  podcast co hosts nina pantic and irina falconi discuss the art of defending points         ': 'the end of the season is finally in sight, and with so many players defending,or losing,huge chunks of points in singapore, zhuhai and london, podcast co-hosts nina pantic and irina falconi discuss the art of defending points (02:14).', 'it s no secret that jack sock has struggled on the singles court this year  his record is       ': \"it's no secret that jack sock has struggled on the singles court this year (his record is 7-19).\", 'he could lose       points in the next few weeks  but instead of focusing on the negative  it can all be about perspective         ': 'he could lose 1,400 points in the next few weeks, but instead of focusing on the negative, it can all be about perspective (06:28).', 'let s also not forget his two grand slam doubles triumphs this season ': \"let's also not forget his two grand slam doubles triumphs this season.\", 'two players  stefanos tsitsipas and kyle edmund  won their first career atp titles last week         ': 'two players, stefanos tsitsipas and kyle edmund, won their first career atp titles last week (13:26).', 'it s a big deal because you never forget your first ': \"it's a big deal because you never forget your first.\", 'irina looks back at her wta title win in bogota in       and tells an unforgettable story about her semifinal drama         ': 'irina looks back at her wta title win in bogota in 2016, and tells an unforgettable story about her semifinal drama (14:04).', 'in singapore  one of the biggest storylines  aside from the matches  of course  has been the on court coaching debate ': 'in singapore, one of the biggest storylines (aside from the matches, of course) has been the on-court coaching debate.', 'nina and irina give their opinions on what coaching should look like in the future  on both tours         federer won the swiss indoors last week by beating romanian qualifier marius copil in the final ': 'nina and irina give their opinions on what coaching should look like in the future, on both tours (18:55).federer won the swiss indoors last week by beating romanian qualifier marius copil in the final.', 'the    year old claimed his   th atp title and is hunting the century in the french capital this week ': 'the 37-year-old claimed his 99th atp title and is hunting the century in the french capital this week.', 'federer has been handed a difficult draw where could could come across kevin anderson  novak djokovic and rafael nadal in the latter rounds ': 'federer has been handed a difficult draw where could could come across kevin anderson, novak djokovic and rafael nadal in the latter rounds.', 'but first the    time grand slam winner wants to train on the paris masters court this afternoon before deciding whether to appear for his opening match against either milos raonic or jo wilfried tsonga ': 'but first the 20-time grand slam winner wants to train on the paris masters court this afternoon before deciding whether to appear for his opening match against either milos raonic or jo-wilfried tsonga.', ' on monday  i am free and will look how i feel   federer said after winning the swiss indoors ': '\"on monday, i am free and will look how i feel,\" federer said after winning the swiss indoors.', ' on tuesday i will fly to paris and train in the afternoon to be ready for my first match on wednesday night ': '\"on tuesday i will fly to paris and train in the afternoon to be ready for my first match on wednesday night.', ' i felt good all week and better every day ': '\"i felt good all week and better every day.', ' we also had the impression that at this stage it might be better to play matches than to train ': '\"we also had the impression that at this stage it might be better to play matches than to train.', ' and as long as i fear no injury  i play  ': '\"and as long as i fear no injury, i play.\"', 'federer s success in basel last week was the ninth time he has won his hometown tournament ': \"federer's success in basel last week was the ninth time he has won his hometown tournament.\", 'and he was delighted to be watched on by all of his family and friends as he purchased    tickets for the final for those dearest to him ': 'and he was delighted to be watched on by all of his family and friends as he purchased 60 tickets for the final for those dearest to him.', ' my children  my parents  my sister and my team are all there   federer added ': '\"my children, my parents, my sister and my team are all there,\" federer added.', ' it is always very emotional for me to thank my team ': '\"it is always very emotional for me to thank my team.', 'and sometimes it tilts with the emotions  sometimes i just stumble ': 'and sometimes it tilts with the emotions, sometimes i just stumble.', ' it means the world to me ': '\"it means the world to me.', 'it makes me incredibly happy to win my home tournament and make people happy here ': 'it makes me incredibly happy to win my home tournament and make people happy here.', ' i do not know if it s maybe my last title  so today i try a lot more to absorb that and enjoy the moments much more consciously ': '\"i do not know if it\\'s maybe my last title, so today i try a lot more to absorb that and enjoy the moments much more consciously.', ' maybe i should celebrate as if it were my last title ': '\"maybe i should celebrate as if it were my last title.', ' there are very touching moments  seeing the ball children  the standing ovations  all the familiar faces in the audience ': '\"there are very touching moments: seeing the ball children, the standing ovations, all the familiar faces in the audience.', 'because it was not always easy in the last weeks  ': 'because it was not always easy in the last weeks.\"'}\n"
          ]
        },
        {
          "output_type": "stream",
          "name": "stderr",
          "text": [
            "[nltk_data] Downloading package punkt to /root/nltk_data...\n",
            "[nltk_data]   Package punkt is already up-to-date!\n"
          ]
        }
      ]
    },
    {
      "cell_type": "markdown",
      "metadata": {
        "id": "3yL4GMeW6RyK"
      },
      "source": [
        "## STEP 2 : Building Senetnce Similarity Matrix\n",
        "### Similarity is found using Cosine Similarity between vector representation of sentences"
      ]
    },
    {
      "cell_type": "code",
      "execution_count": 12,
      "metadata": {
        "id": "nuJWeAsx6RyL"
      },
      "outputs": [],
      "source": [
        "### define method for calculating similarity\n",
        "\n",
        "def sentence_similarity(sent1, sent2, stopwords=None):\n",
        "    if stopwords is None:\n",
        "        stopwords = []\n",
        "\n",
        "    sent1 = [w.lower() for w in sent1]\n",
        "    sent2 = [w.lower() for w in sent2]\n",
        "\n",
        "    all_words = list(set(sent1 + sent2))\n",
        "\n",
        "    vector1 = [0] * len(all_words)\n",
        "    vector2 = [0] * len(all_words)\n",
        "\n",
        "    # build the vector for the first sentence\n",
        "    for w in sent1:\n",
        "        if w in stopwords:\n",
        "            continue\n",
        "        vector1[all_words.index(w)] += 1\n",
        "\n",
        "    # build the vector for the second sentence\n",
        "    for w in sent2:\n",
        "        if w in stopwords:\n",
        "            continue\n",
        "        vector2[all_words.index(w)] += 1\n",
        "\n",
        "    return 1 - cosine_distance(vector1, vector2)\n",
        "\n",
        "\n",
        "\n",
        "\n",
        "def build_similarity_matrix(sentences, stop_words):\n",
        "    # Create an empty similarity matrix\n",
        "    similarity_matrix = np.zeros((len(sentences), len(sentences)))\n",
        "\n",
        "    for idx1 in range(len(sentences)):\n",
        "        for idx2 in range(len(sentences)):\n",
        "            if idx1 == idx2: #ignore if both are same sentences\n",
        "                continue\n",
        "            similarity_matrix[idx1][idx2] = sentence_similarity(sentences[idx1], sentences[idx2], stop_words)\n",
        "    return similarity_matrix"
      ]
    },
    {
      "cell_type": "markdown",
      "metadata": {
        "id": "N8ENNKUH6RyM"
      },
      "source": [
        "## STEP 3 : Sentence Ranking\n",
        "### Sentences are ranked using PageRank Algorithm on the Graph generated from the Sentence Similarity Matrix"
      ]
    },
    {
      "cell_type": "code",
      "execution_count": 13,
      "metadata": {
        "id": "JJ953TUV6RyM"
      },
      "outputs": [],
      "source": [
        "### generating the final summary : graph is generated using networkx library and cosine similarity matrix\n",
        "# containg adjacency list; after that sentences are scored using pagerank and sorted and stored in ranked_sentences\n",
        "\n",
        "    # Step 2 - Generate Similary Martix across sentences\n",
        "sentence_similarity_martix = build_similarity_matrix(final, '')\n",
        "\n",
        "    # Step 3 - Rank sentences in similarity martix\n",
        "sentence_similarity_graph = nx.from_numpy_array(sentence_similarity_martix)\n",
        "scores = nx.pagerank(sentence_similarity_graph)\n",
        "\n",
        "    # Step 4 - Sort the rank and pick top sentences\n",
        "ranked_sentence = sorted(((scores[i],s) for i,s in enumerate(final)), reverse=True)\n",
        "# print type(ranked_sentence)\n",
        "# print(\"Indexes of top ranked_sentence order are \", ranked_sentence)\n",
        "\n",
        "\n",
        "\n",
        "# Step 5 - Offcourse, output the summarize texr\n",
        "# print('Summarize Text: \\n', \". \".join(summarize_text))"
      ]
    },
    {
      "cell_type": "markdown",
      "metadata": {
        "id": "O8Cd5PdJ6RyN"
      },
      "source": [
        "## STEP 4 : Summary Generation\n",
        "### Summary is outputted as the top 10 ranked sentences"
      ]
    },
    {
      "cell_type": "code",
      "execution_count": 14,
      "metadata": {
        "colab": {
          "base_uri": "https://localhost:8080/"
        },
        "id": "CNlGu_h76RyN",
        "outputId": "57ada251-7b5b-4089-fc01-5a76230c21ac"
      },
      "outputs": [
        {
          "output_type": "stream",
          "name": "stdout",
          "text": [
            "argentina and britain received wild cards to the new-look event, and will compete along with the four 2018 semi-finalists and the 12 teams who win qualifying rounds next february.\n",
            "the competition is set to feature 18 countries in the november 18-24 finals in madrid next year, and will replace the classic home-and-away ties played four times per year for decades.\n",
            "\"nadal has not played tennis since he was forced to retire from the us open semi-finals against juan martin del porto with a knee injury.\n",
            "\"not always, but i really feel like in the mid-2000 years there was a huge shift of the attitudes of the top players and being more friendly and being more giving, and a lot of that had to do with players like roger coming up.\n",
            "but with the atp world tour finals due to begin next month, nadal is ready to prove his fitness before the season-ending event at the 02 arena.\n"
          ]
        }
      ],
      "source": [
        "for i in range(5):\n",
        "     print(dict[ranked_sentence[i][1]])\n",
        "\n",
        "# for i in range(10):\n",
        "#       summarize_text.append(\" \".join(ranked_sentence[i][1]))"
      ]
    }
  ],
  "metadata": {
    "kernelspec": {
      "display_name": "Python 3 (ipykernel)",
      "language": "python",
      "name": "python3"
    },
    "language_info": {
      "codemirror_mode": {
        "name": "ipython",
        "version": 3
      },
      "file_extension": ".py",
      "mimetype": "text/x-python",
      "name": "python",
      "nbconvert_exporter": "python",
      "pygments_lexer": "ipython3",
      "version": "3.9.5"
    },
    "colab": {
      "provenance": []
    }
  },
  "nbformat": 4,
  "nbformat_minor": 0
}